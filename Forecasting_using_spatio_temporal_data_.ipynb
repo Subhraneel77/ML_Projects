{
  "nbformat": 4,
  "nbformat_minor": 0,
  "metadata": {
    "colab": {
      "name": "Forecasting using spatio-temporal data .ipynb",
      "provenance": []
    },
    "kernelspec": {
      "name": "python3",
      "display_name": "Python 3"
    },
    "language_info": {
      "name": "python"
    }
  },
  "cells": [
    {
      "cell_type": "code",
      "source": [
        "import os\n",
        "import sys\n",
        "import urllib.request\n",
        "\n",
        "import numpy as np\n",
        "import matplotlib.pyplot as plt\n",
        "import matplotlib.lines as mlines\n",
        "\n",
        "import tensorflow as tf\n",
        "from tensorflow import keras\n",
        "from tensorflow.keras import Sequential, Model\n",
        "from tensorflow.keras.layers import LSTM, Dense, Dropout, Input"
      ],
      "metadata": {
        "id": "k7i0-VYr7M9u"
      },
      "execution_count": null,
      "outputs": []
    },
    {
      "cell_type": "code",
      "source": [
        "pip install stellargraph"
      ],
      "metadata": {
        "colab": {
          "base_uri": "https://localhost:8080/"
        },
        "id": "HbOMcoCg7T6g",
        "outputId": "0b829e02-c878-425a-8862-d0484b9c72c6"
      },
      "execution_count": null,
      "outputs": [
        {
          "output_type": "stream",
          "name": "stdout",
          "text": [
            "Looking in indexes: https://pypi.org/simple, https://us-python.pkg.dev/colab-wheels/public/simple/\n",
            "Collecting stellargraph\n",
            "  Downloading stellargraph-1.2.1-py3-none-any.whl (435 kB)\n",
            "\u001b[K     |████████████████████████████████| 435 kB 5.2 MB/s \n",
            "\u001b[?25hRequirement already satisfied: gensim>=3.4.0 in /usr/local/lib/python3.7/dist-packages (from stellargraph) (3.6.0)\n",
            "Requirement already satisfied: pandas>=0.24 in /usr/local/lib/python3.7/dist-packages (from stellargraph) (1.3.5)\n",
            "Requirement already satisfied: scikit-learn>=0.20 in /usr/local/lib/python3.7/dist-packages (from stellargraph) (1.0.2)\n",
            "Requirement already satisfied: tensorflow>=2.1.0 in /usr/local/lib/python3.7/dist-packages (from stellargraph) (2.8.2+zzzcolab20220527125636)\n",
            "Requirement already satisfied: matplotlib>=2.2 in /usr/local/lib/python3.7/dist-packages (from stellargraph) (3.2.2)\n",
            "Requirement already satisfied: numpy>=1.14 in /usr/local/lib/python3.7/dist-packages (from stellargraph) (1.21.6)\n",
            "Requirement already satisfied: scipy>=1.1.0 in /usr/local/lib/python3.7/dist-packages (from stellargraph) (1.4.1)\n",
            "Requirement already satisfied: networkx>=2.2 in /usr/local/lib/python3.7/dist-packages (from stellargraph) (2.6.3)\n",
            "Requirement already satisfied: smart-open>=1.2.1 in /usr/local/lib/python3.7/dist-packages (from gensim>=3.4.0->stellargraph) (5.2.1)\n",
            "Requirement already satisfied: six>=1.5.0 in /usr/local/lib/python3.7/dist-packages (from gensim>=3.4.0->stellargraph) (1.15.0)\n",
            "Requirement already satisfied: kiwisolver>=1.0.1 in /usr/local/lib/python3.7/dist-packages (from matplotlib>=2.2->stellargraph) (1.4.3)\n",
            "Requirement already satisfied: pyparsing!=2.0.4,!=2.1.2,!=2.1.6,>=2.0.1 in /usr/local/lib/python3.7/dist-packages (from matplotlib>=2.2->stellargraph) (3.0.9)\n",
            "Requirement already satisfied: cycler>=0.10 in /usr/local/lib/python3.7/dist-packages (from matplotlib>=2.2->stellargraph) (0.11.0)\n",
            "Requirement already satisfied: python-dateutil>=2.1 in /usr/local/lib/python3.7/dist-packages (from matplotlib>=2.2->stellargraph) (2.8.2)\n",
            "Requirement already satisfied: typing-extensions in /usr/local/lib/python3.7/dist-packages (from kiwisolver>=1.0.1->matplotlib>=2.2->stellargraph) (4.1.1)\n",
            "Requirement already satisfied: pytz>=2017.3 in /usr/local/lib/python3.7/dist-packages (from pandas>=0.24->stellargraph) (2022.1)\n",
            "Requirement already satisfied: joblib>=0.11 in /usr/local/lib/python3.7/dist-packages (from scikit-learn>=0.20->stellargraph) (1.1.0)\n",
            "Requirement already satisfied: threadpoolctl>=2.0.0 in /usr/local/lib/python3.7/dist-packages (from scikit-learn>=0.20->stellargraph) (3.1.0)\n",
            "Requirement already satisfied: keras<2.9,>=2.8.0rc0 in /usr/local/lib/python3.7/dist-packages (from tensorflow>=2.1.0->stellargraph) (2.8.0)\n",
            "Requirement already satisfied: google-pasta>=0.1.1 in /usr/local/lib/python3.7/dist-packages (from tensorflow>=2.1.0->stellargraph) (0.2.0)\n",
            "Requirement already satisfied: tensorflow-estimator<2.9,>=2.8 in /usr/local/lib/python3.7/dist-packages (from tensorflow>=2.1.0->stellargraph) (2.8.0)\n",
            "Requirement already satisfied: termcolor>=1.1.0 in /usr/local/lib/python3.7/dist-packages (from tensorflow>=2.1.0->stellargraph) (1.1.0)\n",
            "Requirement already satisfied: h5py>=2.9.0 in /usr/local/lib/python3.7/dist-packages (from tensorflow>=2.1.0->stellargraph) (3.1.0)\n",
            "Requirement already satisfied: keras-preprocessing>=1.1.1 in /usr/local/lib/python3.7/dist-packages (from tensorflow>=2.1.0->stellargraph) (1.1.2)\n",
            "Requirement already satisfied: astunparse>=1.6.0 in /usr/local/lib/python3.7/dist-packages (from tensorflow>=2.1.0->stellargraph) (1.6.3)\n",
            "Requirement already satisfied: tensorflow-io-gcs-filesystem>=0.23.1 in /usr/local/lib/python3.7/dist-packages (from tensorflow>=2.1.0->stellargraph) (0.26.0)\n",
            "Requirement already satisfied: protobuf<3.20,>=3.9.2 in /usr/local/lib/python3.7/dist-packages (from tensorflow>=2.1.0->stellargraph) (3.17.3)\n",
            "Requirement already satisfied: grpcio<2.0,>=1.24.3 in /usr/local/lib/python3.7/dist-packages (from tensorflow>=2.1.0->stellargraph) (1.46.3)\n",
            "Requirement already satisfied: flatbuffers>=1.12 in /usr/local/lib/python3.7/dist-packages (from tensorflow>=2.1.0->stellargraph) (2.0)\n",
            "Requirement already satisfied: wrapt>=1.11.0 in /usr/local/lib/python3.7/dist-packages (from tensorflow>=2.1.0->stellargraph) (1.14.1)\n",
            "Requirement already satisfied: tensorboard<2.9,>=2.8 in /usr/local/lib/python3.7/dist-packages (from tensorflow>=2.1.0->stellargraph) (2.8.0)\n",
            "Requirement already satisfied: libclang>=9.0.1 in /usr/local/lib/python3.7/dist-packages (from tensorflow>=2.1.0->stellargraph) (14.0.1)\n",
            "Requirement already satisfied: setuptools in /usr/local/lib/python3.7/dist-packages (from tensorflow>=2.1.0->stellargraph) (57.4.0)\n",
            "Requirement already satisfied: opt-einsum>=2.3.2 in /usr/local/lib/python3.7/dist-packages (from tensorflow>=2.1.0->stellargraph) (3.3.0)\n",
            "Requirement already satisfied: absl-py>=0.4.0 in /usr/local/lib/python3.7/dist-packages (from tensorflow>=2.1.0->stellargraph) (1.1.0)\n",
            "Requirement already satisfied: gast>=0.2.1 in /usr/local/lib/python3.7/dist-packages (from tensorflow>=2.1.0->stellargraph) (0.5.3)\n",
            "Requirement already satisfied: wheel<1.0,>=0.23.0 in /usr/local/lib/python3.7/dist-packages (from astunparse>=1.6.0->tensorflow>=2.1.0->stellargraph) (0.37.1)\n",
            "Requirement already satisfied: cached-property in /usr/local/lib/python3.7/dist-packages (from h5py>=2.9.0->tensorflow>=2.1.0->stellargraph) (1.5.2)\n",
            "Requirement already satisfied: werkzeug>=0.11.15 in /usr/local/lib/python3.7/dist-packages (from tensorboard<2.9,>=2.8->tensorflow>=2.1.0->stellargraph) (1.0.1)\n",
            "Requirement already satisfied: tensorboard-data-server<0.7.0,>=0.6.0 in /usr/local/lib/python3.7/dist-packages (from tensorboard<2.9,>=2.8->tensorflow>=2.1.0->stellargraph) (0.6.1)\n",
            "Requirement already satisfied: google-auth-oauthlib<0.5,>=0.4.1 in /usr/local/lib/python3.7/dist-packages (from tensorboard<2.9,>=2.8->tensorflow>=2.1.0->stellargraph) (0.4.6)\n",
            "Requirement already satisfied: google-auth<3,>=1.6.3 in /usr/local/lib/python3.7/dist-packages (from tensorboard<2.9,>=2.8->tensorflow>=2.1.0->stellargraph) (1.35.0)\n",
            "Requirement already satisfied: markdown>=2.6.8 in /usr/local/lib/python3.7/dist-packages (from tensorboard<2.9,>=2.8->tensorflow>=2.1.0->stellargraph) (3.3.7)\n",
            "Requirement already satisfied: tensorboard-plugin-wit>=1.6.0 in /usr/local/lib/python3.7/dist-packages (from tensorboard<2.9,>=2.8->tensorflow>=2.1.0->stellargraph) (1.8.1)\n",
            "Requirement already satisfied: requests<3,>=2.21.0 in /usr/local/lib/python3.7/dist-packages (from tensorboard<2.9,>=2.8->tensorflow>=2.1.0->stellargraph) (2.23.0)\n",
            "Requirement already satisfied: rsa<5,>=3.1.4 in /usr/local/lib/python3.7/dist-packages (from google-auth<3,>=1.6.3->tensorboard<2.9,>=2.8->tensorflow>=2.1.0->stellargraph) (4.8)\n",
            "Requirement already satisfied: cachetools<5.0,>=2.0.0 in /usr/local/lib/python3.7/dist-packages (from google-auth<3,>=1.6.3->tensorboard<2.9,>=2.8->tensorflow>=2.1.0->stellargraph) (4.2.4)\n",
            "Requirement already satisfied: pyasn1-modules>=0.2.1 in /usr/local/lib/python3.7/dist-packages (from google-auth<3,>=1.6.3->tensorboard<2.9,>=2.8->tensorflow>=2.1.0->stellargraph) (0.2.8)\n",
            "Requirement already satisfied: requests-oauthlib>=0.7.0 in /usr/local/lib/python3.7/dist-packages (from google-auth-oauthlib<0.5,>=0.4.1->tensorboard<2.9,>=2.8->tensorflow>=2.1.0->stellargraph) (1.3.1)\n",
            "Requirement already satisfied: importlib-metadata>=4.4 in /usr/local/lib/python3.7/dist-packages (from markdown>=2.6.8->tensorboard<2.9,>=2.8->tensorflow>=2.1.0->stellargraph) (4.11.4)\n",
            "Requirement already satisfied: zipp>=0.5 in /usr/local/lib/python3.7/dist-packages (from importlib-metadata>=4.4->markdown>=2.6.8->tensorboard<2.9,>=2.8->tensorflow>=2.1.0->stellargraph) (3.8.0)\n",
            "Requirement already satisfied: pyasn1<0.5.0,>=0.4.6 in /usr/local/lib/python3.7/dist-packages (from pyasn1-modules>=0.2.1->google-auth<3,>=1.6.3->tensorboard<2.9,>=2.8->tensorflow>=2.1.0->stellargraph) (0.4.8)\n",
            "Requirement already satisfied: certifi>=2017.4.17 in /usr/local/lib/python3.7/dist-packages (from requests<3,>=2.21.0->tensorboard<2.9,>=2.8->tensorflow>=2.1.0->stellargraph) (2022.6.15)\n",
            "Requirement already satisfied: urllib3!=1.25.0,!=1.25.1,<1.26,>=1.21.1 in /usr/local/lib/python3.7/dist-packages (from requests<3,>=2.21.0->tensorboard<2.9,>=2.8->tensorflow>=2.1.0->stellargraph) (1.24.3)\n",
            "Requirement already satisfied: idna<3,>=2.5 in /usr/local/lib/python3.7/dist-packages (from requests<3,>=2.21.0->tensorboard<2.9,>=2.8->tensorflow>=2.1.0->stellargraph) (2.10)\n",
            "Requirement already satisfied: chardet<4,>=3.0.2 in /usr/local/lib/python3.7/dist-packages (from requests<3,>=2.21.0->tensorboard<2.9,>=2.8->tensorflow>=2.1.0->stellargraph) (3.0.4)\n",
            "Requirement already satisfied: oauthlib>=3.0.0 in /usr/local/lib/python3.7/dist-packages (from requests-oauthlib>=0.7.0->google-auth-oauthlib<0.5,>=0.4.1->tensorboard<2.9,>=2.8->tensorflow>=2.1.0->stellargraph) (3.2.0)\n",
            "Installing collected packages: stellargraph\n",
            "Successfully installed stellargraph-1.2.1\n"
          ]
        }
      ]
    },
    {
      "cell_type": "code",
      "source": [
        "import stellargraph as sg"
      ],
      "metadata": {
        "id": "9JQUZ5oJ7PYU"
      },
      "execution_count": null,
      "outputs": []
    },
    {
      "cell_type": "code",
      "source": [
        "dataset = sg.datasets.METR_LA()"
      ],
      "metadata": {
        "id": "hp7YDnrT7aTl"
      },
      "execution_count": null,
      "outputs": []
    },
    {
      "cell_type": "code",
      "source": [
        "speed_data, sensor_dist_adj = dataset.load()\n",
        "num_nodes, time_len = speed_data.shape\n",
        "print(\"No. of sensors:\", num_nodes, \"\\nNo of timesteps:\", time_len)"
      ],
      "metadata": {
        "colab": {
          "base_uri": "https://localhost:8080/"
        },
        "id": "KXDj9E-u7faq",
        "outputId": "4853fd8a-76c4-4fd8-d29b-23b7c344f4a9"
      },
      "execution_count": null,
      "outputs": [
        {
          "output_type": "stream",
          "name": "stdout",
          "text": [
            "No. of sensors: 207 \n",
            "No of timesteps: 2016\n"
          ]
        }
      ]
    },
    {
      "cell_type": "code",
      "source": [
        "speed_data.head()"
      ],
      "metadata": {
        "colab": {
          "base_uri": "https://localhost:8080/",
          "height": 297
        },
        "id": "dibDtcXe7ler",
        "outputId": "9c7663e7-ef01-438e-f90e-71b3848198ce"
      },
      "execution_count": null,
      "outputs": [
        {
          "output_type": "execute_result",
          "data": {
            "text/plain": [
              "          0          1      2          3          4          5       6     \\\n",
              "773869  64.375  62.666667  64.00  61.777778  59.555556  57.333333  66.500   \n",
              "767541  67.625  68.555556  63.75  65.500000  67.250000  69.000000  63.875   \n",
              "767542  67.125  65.444444  60.00  62.555556  65.111111  67.666667  67.875   \n",
              "717447  61.500  62.444444  59.00  59.888889  60.777778  61.666667  62.375   \n",
              "717446  66.875  64.444444  66.50  66.777778  67.055556  67.333333  64.375   \n",
              "\n",
              "          7       8       9     ...    2006       2007    2008    2009  \\\n",
              "773869  63.625  68.750  63.500  ...  64.625  65.444444  63.125  62.875   \n",
              "767541  67.250  65.250  61.500  ...  67.125  66.555556  68.125  67.125   \n",
              "767542  63.250  63.500  62.500  ...  66.500  66.222222  67.625  68.625   \n",
              "717447  60.500  63.000  58.125  ...  55.625  61.000000  58.750  60.625   \n",
              "717446  57.375  65.125  66.625  ...  65.625  58.000000  66.625  67.125   \n",
              "\n",
              "          2010       2011    2012    2013       2014    2015  \n",
              "773869  68.375  65.555556  66.625  66.375  64.666667  66.000  \n",
              "767541  67.000  65.111111  66.625  66.375  66.555556  67.125  \n",
              "767542  68.500  64.111111  65.750  63.750  66.888889  66.375  \n",
              "717447  61.375  61.111111  64.750  63.750  59.888889  59.250  \n",
              "717446  64.500  66.000000  67.375  67.625  65.111111  64.250  \n",
              "\n",
              "[5 rows x 2016 columns]"
            ],
            "text/html": [
              "\n",
              "  <div id=\"df-37a5387c-15ee-4a7f-8ab1-41034646e992\">\n",
              "    <div class=\"colab-df-container\">\n",
              "      <div>\n",
              "<style scoped>\n",
              "    .dataframe tbody tr th:only-of-type {\n",
              "        vertical-align: middle;\n",
              "    }\n",
              "\n",
              "    .dataframe tbody tr th {\n",
              "        vertical-align: top;\n",
              "    }\n",
              "\n",
              "    .dataframe thead th {\n",
              "        text-align: right;\n",
              "    }\n",
              "</style>\n",
              "<table border=\"1\" class=\"dataframe\">\n",
              "  <thead>\n",
              "    <tr style=\"text-align: right;\">\n",
              "      <th></th>\n",
              "      <th>0</th>\n",
              "      <th>1</th>\n",
              "      <th>2</th>\n",
              "      <th>3</th>\n",
              "      <th>4</th>\n",
              "      <th>5</th>\n",
              "      <th>6</th>\n",
              "      <th>7</th>\n",
              "      <th>8</th>\n",
              "      <th>9</th>\n",
              "      <th>...</th>\n",
              "      <th>2006</th>\n",
              "      <th>2007</th>\n",
              "      <th>2008</th>\n",
              "      <th>2009</th>\n",
              "      <th>2010</th>\n",
              "      <th>2011</th>\n",
              "      <th>2012</th>\n",
              "      <th>2013</th>\n",
              "      <th>2014</th>\n",
              "      <th>2015</th>\n",
              "    </tr>\n",
              "  </thead>\n",
              "  <tbody>\n",
              "    <tr>\n",
              "      <th>773869</th>\n",
              "      <td>64.375</td>\n",
              "      <td>62.666667</td>\n",
              "      <td>64.00</td>\n",
              "      <td>61.777778</td>\n",
              "      <td>59.555556</td>\n",
              "      <td>57.333333</td>\n",
              "      <td>66.500</td>\n",
              "      <td>63.625</td>\n",
              "      <td>68.750</td>\n",
              "      <td>63.500</td>\n",
              "      <td>...</td>\n",
              "      <td>64.625</td>\n",
              "      <td>65.444444</td>\n",
              "      <td>63.125</td>\n",
              "      <td>62.875</td>\n",
              "      <td>68.375</td>\n",
              "      <td>65.555556</td>\n",
              "      <td>66.625</td>\n",
              "      <td>66.375</td>\n",
              "      <td>64.666667</td>\n",
              "      <td>66.000</td>\n",
              "    </tr>\n",
              "    <tr>\n",
              "      <th>767541</th>\n",
              "      <td>67.625</td>\n",
              "      <td>68.555556</td>\n",
              "      <td>63.75</td>\n",
              "      <td>65.500000</td>\n",
              "      <td>67.250000</td>\n",
              "      <td>69.000000</td>\n",
              "      <td>63.875</td>\n",
              "      <td>67.250</td>\n",
              "      <td>65.250</td>\n",
              "      <td>61.500</td>\n",
              "      <td>...</td>\n",
              "      <td>67.125</td>\n",
              "      <td>66.555556</td>\n",
              "      <td>68.125</td>\n",
              "      <td>67.125</td>\n",
              "      <td>67.000</td>\n",
              "      <td>65.111111</td>\n",
              "      <td>66.625</td>\n",
              "      <td>66.375</td>\n",
              "      <td>66.555556</td>\n",
              "      <td>67.125</td>\n",
              "    </tr>\n",
              "    <tr>\n",
              "      <th>767542</th>\n",
              "      <td>67.125</td>\n",
              "      <td>65.444444</td>\n",
              "      <td>60.00</td>\n",
              "      <td>62.555556</td>\n",
              "      <td>65.111111</td>\n",
              "      <td>67.666667</td>\n",
              "      <td>67.875</td>\n",
              "      <td>63.250</td>\n",
              "      <td>63.500</td>\n",
              "      <td>62.500</td>\n",
              "      <td>...</td>\n",
              "      <td>66.500</td>\n",
              "      <td>66.222222</td>\n",
              "      <td>67.625</td>\n",
              "      <td>68.625</td>\n",
              "      <td>68.500</td>\n",
              "      <td>64.111111</td>\n",
              "      <td>65.750</td>\n",
              "      <td>63.750</td>\n",
              "      <td>66.888889</td>\n",
              "      <td>66.375</td>\n",
              "    </tr>\n",
              "    <tr>\n",
              "      <th>717447</th>\n",
              "      <td>61.500</td>\n",
              "      <td>62.444444</td>\n",
              "      <td>59.00</td>\n",
              "      <td>59.888889</td>\n",
              "      <td>60.777778</td>\n",
              "      <td>61.666667</td>\n",
              "      <td>62.375</td>\n",
              "      <td>60.500</td>\n",
              "      <td>63.000</td>\n",
              "      <td>58.125</td>\n",
              "      <td>...</td>\n",
              "      <td>55.625</td>\n",
              "      <td>61.000000</td>\n",
              "      <td>58.750</td>\n",
              "      <td>60.625</td>\n",
              "      <td>61.375</td>\n",
              "      <td>61.111111</td>\n",
              "      <td>64.750</td>\n",
              "      <td>63.750</td>\n",
              "      <td>59.888889</td>\n",
              "      <td>59.250</td>\n",
              "    </tr>\n",
              "    <tr>\n",
              "      <th>717446</th>\n",
              "      <td>66.875</td>\n",
              "      <td>64.444444</td>\n",
              "      <td>66.50</td>\n",
              "      <td>66.777778</td>\n",
              "      <td>67.055556</td>\n",
              "      <td>67.333333</td>\n",
              "      <td>64.375</td>\n",
              "      <td>57.375</td>\n",
              "      <td>65.125</td>\n",
              "      <td>66.625</td>\n",
              "      <td>...</td>\n",
              "      <td>65.625</td>\n",
              "      <td>58.000000</td>\n",
              "      <td>66.625</td>\n",
              "      <td>67.125</td>\n",
              "      <td>64.500</td>\n",
              "      <td>66.000000</td>\n",
              "      <td>67.375</td>\n",
              "      <td>67.625</td>\n",
              "      <td>65.111111</td>\n",
              "      <td>64.250</td>\n",
              "    </tr>\n",
              "  </tbody>\n",
              "</table>\n",
              "<p>5 rows × 2016 columns</p>\n",
              "</div>\n",
              "      <button class=\"colab-df-convert\" onclick=\"convertToInteractive('df-37a5387c-15ee-4a7f-8ab1-41034646e992')\"\n",
              "              title=\"Convert this dataframe to an interactive table.\"\n",
              "              style=\"display:none;\">\n",
              "        \n",
              "  <svg xmlns=\"http://www.w3.org/2000/svg\" height=\"24px\"viewBox=\"0 0 24 24\"\n",
              "       width=\"24px\">\n",
              "    <path d=\"M0 0h24v24H0V0z\" fill=\"none\"/>\n",
              "    <path d=\"M18.56 5.44l.94 2.06.94-2.06 2.06-.94-2.06-.94-.94-2.06-.94 2.06-2.06.94zm-11 1L8.5 8.5l.94-2.06 2.06-.94-2.06-.94L8.5 2.5l-.94 2.06-2.06.94zm10 10l.94 2.06.94-2.06 2.06-.94-2.06-.94-.94-2.06-.94 2.06-2.06.94z\"/><path d=\"M17.41 7.96l-1.37-1.37c-.4-.4-.92-.59-1.43-.59-.52 0-1.04.2-1.43.59L10.3 9.45l-7.72 7.72c-.78.78-.78 2.05 0 2.83L4 21.41c.39.39.9.59 1.41.59.51 0 1.02-.2 1.41-.59l7.78-7.78 2.81-2.81c.8-.78.8-2.07 0-2.86zM5.41 20L4 18.59l7.72-7.72 1.47 1.35L5.41 20z\"/>\n",
              "  </svg>\n",
              "      </button>\n",
              "      \n",
              "  <style>\n",
              "    .colab-df-container {\n",
              "      display:flex;\n",
              "      flex-wrap:wrap;\n",
              "      gap: 12px;\n",
              "    }\n",
              "\n",
              "    .colab-df-convert {\n",
              "      background-color: #E8F0FE;\n",
              "      border: none;\n",
              "      border-radius: 50%;\n",
              "      cursor: pointer;\n",
              "      display: none;\n",
              "      fill: #1967D2;\n",
              "      height: 32px;\n",
              "      padding: 0 0 0 0;\n",
              "      width: 32px;\n",
              "    }\n",
              "\n",
              "    .colab-df-convert:hover {\n",
              "      background-color: #E2EBFA;\n",
              "      box-shadow: 0px 1px 2px rgba(60, 64, 67, 0.3), 0px 1px 3px 1px rgba(60, 64, 67, 0.15);\n",
              "      fill: #174EA6;\n",
              "    }\n",
              "\n",
              "    [theme=dark] .colab-df-convert {\n",
              "      background-color: #3B4455;\n",
              "      fill: #D2E3FC;\n",
              "    }\n",
              "\n",
              "    [theme=dark] .colab-df-convert:hover {\n",
              "      background-color: #434B5C;\n",
              "      box-shadow: 0px 1px 3px 1px rgba(0, 0, 0, 0.15);\n",
              "      filter: drop-shadow(0px 1px 2px rgba(0, 0, 0, 0.3));\n",
              "      fill: #FFFFFF;\n",
              "    }\n",
              "  </style>\n",
              "\n",
              "      <script>\n",
              "        const buttonEl =\n",
              "          document.querySelector('#df-37a5387c-15ee-4a7f-8ab1-41034646e992 button.colab-df-convert');\n",
              "        buttonEl.style.display =\n",
              "          google.colab.kernel.accessAllowed ? 'block' : 'none';\n",
              "\n",
              "        async function convertToInteractive(key) {\n",
              "          const element = document.querySelector('#df-37a5387c-15ee-4a7f-8ab1-41034646e992');\n",
              "          const dataTable =\n",
              "            await google.colab.kernel.invokeFunction('convertToInteractive',\n",
              "                                                     [key], {});\n",
              "          if (!dataTable) return;\n",
              "\n",
              "          const docLinkHtml = 'Like what you see? Visit the ' +\n",
              "            '<a target=\"_blank\" href=https://colab.research.google.com/notebooks/data_table.ipynb>data table notebook</a>'\n",
              "            + ' to learn more about interactive tables.';\n",
              "          element.innerHTML = '';\n",
              "          dataTable['output_type'] = 'display_data';\n",
              "          await google.colab.output.renderOutput(dataTable, element);\n",
              "          const docLink = document.createElement('div');\n",
              "          docLink.innerHTML = docLinkHtml;\n",
              "          element.appendChild(docLink);\n",
              "        }\n",
              "      </script>\n",
              "    </div>\n",
              "  </div>\n",
              "  "
            ]
          },
          "metadata": {},
          "execution_count": 11
        }
      ]
    },
    {
      "cell_type": "code",
      "source": [
        "def train_test_split(data, train_portion):\n",
        "    time_len = data.shape[1]\n",
        "    train_size = int(time_len * train_portion)\n",
        "    train_data = np.array(data.iloc[:, :train_size])\n",
        "    test_data = np.array(data.iloc[:, train_size:])\n",
        "    return train_data, test_data"
      ],
      "metadata": {
        "id": "19mvxnCb7nej"
      },
      "execution_count": null,
      "outputs": []
    },
    {
      "cell_type": "code",
      "source": [
        "train_rate = 0.8"
      ],
      "metadata": {
        "id": "IZeqDuA27suQ"
      },
      "execution_count": null,
      "outputs": []
    },
    {
      "cell_type": "code",
      "source": [
        "train_data, test_data = train_test_split(speed_data, train_rate)\n",
        "print(\"Train data: \", train_data.shape)\n",
        "print(\"Test data: \", test_data.shape)"
      ],
      "metadata": {
        "colab": {
          "base_uri": "https://localhost:8080/"
        },
        "id": "pzY3g5hz7vDp",
        "outputId": "242fedcb-a41a-41e1-ae7b-b15dbb23def3"
      },
      "execution_count": null,
      "outputs": [
        {
          "output_type": "stream",
          "name": "stdout",
          "text": [
            "Train data:  (207, 1612)\n",
            "Test data:  (207, 404)\n"
          ]
        }
      ]
    },
    {
      "cell_type": "code",
      "source": [
        "def scale_data(train_data, test_data):\n",
        "    max_speed = train_data.max()\n",
        "    min_speed = train_data.min()\n",
        "    train_scaled = (train_data - min_speed) / (max_speed - min_speed)\n",
        "    test_scaled = (test_data - min_speed) / (max_speed - min_speed)\n",
        "    return train_scaled, test_scaled"
      ],
      "metadata": {
        "id": "T-ORtrxs7wbM"
      },
      "execution_count": null,
      "outputs": []
    },
    {
      "cell_type": "code",
      "source": [
        "train_scaled, test_scaled = scale_data(train_data, test_data)"
      ],
      "metadata": {
        "id": "ZOFii5ck70ju"
      },
      "execution_count": null,
      "outputs": []
    },
    {
      "cell_type": "code",
      "source": [
        "seq_len = 10\n",
        "pre_len = 12"
      ],
      "metadata": {
        "id": "2kdZYrwB76gj"
      },
      "execution_count": null,
      "outputs": []
    },
    {
      "cell_type": "code",
      "source": [
        "def sequence_data_preparation(seq_len, pre_len, train_data, test_data):\n",
        "    trainX, trainY, testX, testY = [], [], [], []\n",
        "\n",
        "    for i in range(train_data.shape[1] - int(seq_len + pre_len - 1)):\n",
        "        a = train_data[:, i : i + seq_len + pre_len]\n",
        "        trainX.append(a[:, :seq_len])\n",
        "        trainY.append(a[:, -1])\n",
        "\n",
        "    for i in range(test_data.shape[1] - int(seq_len + pre_len - 1)):\n",
        "        b = test_data[:, i : i + seq_len + pre_len]\n",
        "        testX.append(b[:, :seq_len])\n",
        "        testY.append(b[:, -1])\n",
        "\n",
        "    trainX = np.array(trainX)\n",
        "    trainY = np.array(trainY)\n",
        "    testX = np.array(testX)\n",
        "    testY = np.array(testY)\n",
        "\n",
        "    return trainX, trainY, testX, testY"
      ],
      "metadata": {
        "id": "a-xxspSQ7_s5"
      },
      "execution_count": null,
      "outputs": []
    },
    {
      "cell_type": "code",
      "source": [
        "trainX, trainY, testX, testY = sequence_data_preparation(\n",
        "    seq_len, pre_len, train_scaled, test_scaled\n",
        ")\n",
        "print(trainX.shape)\n",
        "print(trainY.shape)\n",
        "print(testX.shape)\n",
        "print(testY.shape)"
      ],
      "metadata": {
        "colab": {
          "base_uri": "https://localhost:8080/"
        },
        "id": "wAosIoWy8C9a",
        "outputId": "a5956fe0-82f5-499f-a8de-a11c5563fc30"
      },
      "execution_count": null,
      "outputs": [
        {
          "output_type": "stream",
          "name": "stdout",
          "text": [
            "(1591, 207, 10)\n",
            "(1591, 207)\n",
            "(383, 207, 10)\n",
            "(383, 207)\n"
          ]
        }
      ]
    },
    {
      "cell_type": "code",
      "source": [
        "from stellargraph.layer import GCN_LSTM"
      ],
      "metadata": {
        "id": "HFkw1LH78Hcv"
      },
      "execution_count": null,
      "outputs": []
    },
    {
      "cell_type": "code",
      "source": [
        "gcn_lstm = GCN_LSTM(\n",
        "    seq_len=seq_len,\n",
        "    adj=sensor_dist_adj,\n",
        "    gc_layer_sizes=[16, 10],\n",
        "    gc_activations=[\"relu\", \"relu\"],\n",
        "    lstm_layer_sizes=[200, 200],\n",
        "    lstm_activations=[\"tanh\", \"tanh\"],\n",
        ")"
      ],
      "metadata": {
        "id": "2Aw-2RcP8Ki6"
      },
      "execution_count": null,
      "outputs": []
    },
    {
      "cell_type": "code",
      "source": [
        "x_input, x_output = gcn_lstm.in_out_tensors()"
      ],
      "metadata": {
        "id": "eOsiUDzQ8Mzm"
      },
      "execution_count": null,
      "outputs": []
    },
    {
      "cell_type": "code",
      "source": [
        "model = Model(inputs=x_input, outputs=x_output)\n"
      ],
      "metadata": {
        "id": "06v5TLj68PIP"
      },
      "execution_count": null,
      "outputs": []
    },
    {
      "cell_type": "code",
      "source": [
        "model.compile(optimizer=\"adam\", loss=\"mae\", metrics=[\"mse\"])"
      ],
      "metadata": {
        "id": "HD7QdXxM8RTM"
      },
      "execution_count": null,
      "outputs": []
    },
    {
      "cell_type": "code",
      "source": [
        "history = model.fit(\n",
        "    trainX,\n",
        "    trainY,\n",
        "    epochs=100,\n",
        "    batch_size=60,\n",
        "    shuffle=True,\n",
        "    verbose=0,\n",
        "    validation_data=[testX, testY],\n",
        ")"
      ],
      "metadata": {
        "id": "C8DgMD1G8TTt"
      },
      "execution_count": null,
      "outputs": []
    },
    {
      "cell_type": "code",
      "source": [
        "model.summary()"
      ],
      "metadata": {
        "colab": {
          "base_uri": "https://localhost:8080/"
        },
        "id": "_0AeW0689ozE",
        "outputId": "697dd536-ea3e-437e-97fb-1fc5d6579dbc"
      },
      "execution_count": null,
      "outputs": [
        {
          "output_type": "stream",
          "name": "stdout",
          "text": [
            "Model: \"model\"\n",
            "_________________________________________________________________\n",
            " Layer (type)                Output Shape              Param #   \n",
            "=================================================================\n",
            " input_1 (InputLayer)        [(None, 207, 10)]         0         \n",
            "                                                                 \n",
            " tf.expand_dims (TFOpLambda)  (None, 207, 10, 1)       0         \n",
            "                                                                 \n",
            " reshape (Reshape)           (None, 207, 10)           0         \n",
            "                                                                 \n",
            " fixed_adjacency_graph_convo  (None, 207, 16)          43216     \n",
            " lution (FixedAdjacencyGraph                                     \n",
            " Convolution)                                                    \n",
            "                                                                 \n",
            " fixed_adjacency_graph_convo  (None, 207, 10)          43216     \n",
            " lution_1 (FixedAdjacencyGra                                     \n",
            " phConvolution)                                                  \n",
            "                                                                 \n",
            " reshape_1 (Reshape)         (None, 207, 10, 1)        0         \n",
            "                                                                 \n",
            " permute (Permute)           (None, 10, 207, 1)        0         \n",
            "                                                                 \n",
            " reshape_2 (Reshape)         (None, 10, 207)           0         \n",
            "                                                                 \n",
            " lstm (LSTM)                 (None, 10, 200)           326400    \n",
            "                                                                 \n",
            " lstm_1 (LSTM)               (None, 200)               320800    \n",
            "                                                                 \n",
            " dropout (Dropout)           (None, 200)               0         \n",
            "                                                                 \n",
            " dense (Dense)               (None, 207)               41607     \n",
            "                                                                 \n",
            "=================================================================\n",
            "Total params: 775,239\n",
            "Trainable params: 689,541\n",
            "Non-trainable params: 85,698\n",
            "_________________________________________________________________\n"
          ]
        }
      ]
    },
    {
      "cell_type": "code",
      "source": [
        "print(\n",
        "    \"Train loss: \",\n",
        "    history.history[\"loss\"][-1],\n",
        "    \"\\nTest loss:\",\n",
        "    history.history[\"val_loss\"][-1],\n",
        ")"
      ],
      "metadata": {
        "colab": {
          "base_uri": "https://localhost:8080/"
        },
        "id": "TT9U1YE79qxt",
        "outputId": "1ba42fd1-8366-4713-c330-fa13b5be3587"
      },
      "execution_count": null,
      "outputs": [
        {
          "output_type": "stream",
          "name": "stdout",
          "text": [
            "Train loss:  0.05484631657600403 \n",
            "Test loss: 0.06456635892391205\n"
          ]
        }
      ]
    },
    {
      "cell_type": "code",
      "source": [
        "sg.utils.plot_history(history)"
      ],
      "metadata": {
        "colab": {
          "base_uri": "https://localhost:8080/",
          "height": 585
        },
        "id": "zgcE09AZ9tLk",
        "outputId": "4036d2b1-05f3-44e3-8bbb-5957e6eebcb7"
      },
      "execution_count": null,
      "outputs": [
        {
          "output_type": "display_data",
          "data": {
            "text/plain": [
              "<Figure size 504x576 with 2 Axes>"
            ],
            "image/png": "[encoded data removed]"
          },
          "metadata": {
            "needs_background": "light"
          }
        }
      ]
    },
    {
      "cell_type": "code",
      "source": [
        "ythat = model.predict(trainX)\n",
        "yhat = model.predict(testX)"
      ],
      "metadata": {
        "id": "G7NiFlH19x1M"
      },
      "execution_count": null,
      "outputs": []
    },
    {
      "cell_type": "code",
      "source": [
        "## Rescale values\n",
        "max_speed = train_data.max()\n",
        "min_speed = train_data.min()\n",
        "\n",
        "## actual train and test values\n",
        "train_rescref = np.array(trainY * max_speed)\n",
        "test_rescref = np.array(testY * max_speed)"
      ],
      "metadata": {
        "id": "Tohn9Sg090pb"
      },
      "execution_count": null,
      "outputs": []
    },
    {
      "cell_type": "code",
      "source": [
        "## Rescale model predicted values\n",
        "train_rescpred = np.array((ythat) * max_speed)\n",
        "test_rescpred = np.array((yhat) * max_speed)"
      ],
      "metadata": {
        "id": "nDP6bJvv93m1"
      },
      "execution_count": null,
      "outputs": []
    },
    {
      "cell_type": "code",
      "source": [
        "## Naive prediction benchmark (using previous observed value)\n",
        "\n",
        "testnpred = np.array(testX)[\n",
        "    :, :, -1\n",
        "]  # picking the last speed of the 10 sequence for each segment in each sample\n",
        "testnpredc = (testnpred) * max_speed"
      ],
      "metadata": {
        "id": "Ow1iyPp-96hd"
      },
      "execution_count": null,
      "outputs": []
    },
    {
      "cell_type": "code",
      "source": [
        "## Performance measures\n",
        "\n",
        "seg_mael = []\n",
        "seg_masel = []\n",
        "seg_nmael = []\n",
        "\n",
        "for j in range(testX.shape[-1]):\n",
        "\n",
        "    seg_mael.append(\n",
        "        np.mean(np.abs(test_rescref.T[j] - test_rescpred.T[j]))\n",
        "    )  # Mean Absolute Error for NN\n",
        "    seg_nmael.append(\n",
        "        np.mean(np.abs(test_rescref.T[j] - testnpredc.T[j]))\n",
        "    )  # Mean Absolute Error for naive prediction\n",
        "    if seg_nmael[-1] != 0:\n",
        "        seg_masel.append(\n",
        "            seg_mael[-1] / seg_nmael[-1]\n",
        "        )  # Ratio of the two: Mean Absolute Scaled Error\n",
        "    else:\n",
        "        seg_masel.append(np.NaN)\n",
        "\n",
        "print(\"Total (ave) MAE for NN: \" + str(np.mean(np.array(seg_mael))))\n",
        "print(\"Total (ave) MAE for naive prediction: \" + str(np.mean(np.array(seg_nmael))))\n",
        "print(\n",
        "    \"Total (ave) MASE for per-segment NN/naive MAE: \"\n",
        "    + str(np.nanmean(np.array(seg_masel)))\n",
        ")\n",
        "print(\n",
        "    \"...note that MASE<1 (for a given segment) means that the NN prediction is better than the naive prediction.\"\n",
        ")"
      ],
      "metadata": {
        "colab": {
          "base_uri": "https://localhost:8080/"
        },
        "id": "WgvKWoBS99r1",
        "outputId": "046918df-7543-4bec-85c9-56eac0d4b977"
      },
      "execution_count": null,
      "outputs": [
        {
          "output_type": "stream",
          "name": "stdout",
          "text": [
            "Total (ave) MAE for NN: 4.404484856216133\n",
            "Total (ave) MAE for naive prediction: 5.619645381284217\n",
            "Total (ave) MASE for per-segment NN/naive MAE: 0.7773973751529504\n",
            "...note that MASE<1 (for a given segment) means that the NN prediction is better than the naive prediction.\n"
          ]
        }
      ]
    },
    {
      "cell_type": "code",
      "source": [
        "# plot violin plot of MAE for naive and NN predictions\n",
        "fig, ax = plt.subplots()\n",
        "# xl = minsl\n",
        "\n",
        "ax.violinplot(\n",
        "    list(seg_mael), showmeans=True, showmedians=False, showextrema=False, widths=1.0\n",
        ")\n",
        "\n",
        "ax.violinplot(\n",
        "    list(seg_nmael), showmeans=True, showmedians=False, showextrema=False, widths=1.0\n",
        ")\n",
        "\n",
        "line1 = mlines.Line2D([], [], label=\"NN\")\n",
        "line2 = mlines.Line2D([], [], color=\"C1\", label=\"Instantaneous\")\n",
        "\n",
        "ax.set_xlabel(\"Scaled distribution amplitude (after Gaussian convolution)\")\n",
        "ax.set_ylabel(\"Mean Absolute Error\")\n",
        "ax.set_title(\"Distribution over segments: NN pred (blue) and naive pred (orange)\")\n",
        "plt.legend(handles=(line1, line2), title=\"Prediction Model\", loc=2)\n",
        "plt.show()"
      ],
      "metadata": {
        "colab": {
          "base_uri": "https://localhost:8080/",
          "height": 295
        },
        "id": "JPgbY-2t-IVJ",
        "outputId": "4c7131af-9477-4244-ea68-71ed65336321"
      },
      "execution_count": null,
      "outputs": [
        {
          "output_type": "display_data",
          "data": {
            "text/plain": [
              "<Figure size 432x288 with 1 Axes>"
            ],
            "image/png": "[encoded data removed]"
          },
          "metadata": {
            "needs_background": "light"
          }
        }
      ]
    },
    {
      "cell_type": "code",
      "source": [
        "##all test result visualization\n",
        "fig1 = plt.figure(figsize=(15, 8))\n",
        "#    ax1 = fig1.add_subplot(1,1,1)\n",
        "a_pred = test_rescpred[:, 100]\n",
        "a_true = test_rescref[:, 100]\n",
        "plt.plot(a_pred, \"r-\", label=\"prediction\")\n",
        "plt.plot(a_true, \"b-\", label=\"true\")\n",
        "plt.xlabel(\"time\")\n",
        "plt.ylabel(\"speed\")\n",
        "plt.legend(loc=\"best\", fontsize=10)\n",
        "plt.show()"
      ],
      "metadata": {
        "colab": {
          "base_uri": "https://localhost:8080/",
          "height": 497
        },
        "id": "uBCVIRnL-Mmk",
        "outputId": "3c06c300-fd0b-4f5e-b689-001c3e85ce3e"
      },
      "execution_count": null,
      "outputs": [
        {
          "output_type": "display_data",
          "data": {
            "text/plain": [
              "<Figure size 1080x576 with 1 Axes>"
            ],
            "image/png": "[encoded data removed]"
          },
          "metadata": {
            "needs_background": "light"
          }
        }
      ]
    },
    {
      "cell_type": "code",
      "source": [
        "import matplotlib.pyplot as plt\n",
        "import networkx as nx\n",
        "\n",
        "\n",
        "def lanl_graph():\n",
        "    \"\"\"Return the lanl internet view graph from lanl.edges\"\"\"\n",
        "    try:\n",
        "        fh = open(\"lanl_routes.edgelist\")\n",
        "    except OSError:\n",
        "        print(\"lanl.edges not found\")\n",
        "        raise\n",
        "\n",
        "    G = nx.Graph()\n",
        "\n",
        "    time = {}\n",
        "    time[0] = 0  # assign 0 to center node\n",
        "    for line in fh.readlines():\n",
        "        (head, tail, rtt) = line.split()\n",
        "        G.add_edge(int(head), int(tail))\n",
        "        time[int(head)] = float(rtt)\n",
        "\n",
        "    # get largest component and assign ping times to G0time dictionary\n",
        "    Gcc = sorted(nx.connected_components(G), key=len, reverse=True)[0]\n",
        "    G0 = G.subgraph(Gcc)\n",
        "    G0.rtt = {}\n",
        "    for n in G0:\n",
        "        G0.rtt[n] = time[n]\n",
        "\n",
        "    return G0\n",
        "\n",
        "\n",
        "G = lanl_graph()\n",
        "\n",
        "print(G)\n",
        "print(nx.number_connected_components(G), \"connected components\")\n",
        "\n",
        "plt.figure(figsize=(8, 8))\n",
        "# use graphviz to find radial layout\n",
        "pos = nx.nx_agraph.graphviz_layout(G, prog=\"twopi\", root=0)\n",
        "# draw nodes, coloring by rtt ping time\n",
        "options = {\"with_labels\": False, \"alpha\": 0.5, \"node_size\": 15}\n",
        "nx.draw(G, pos, node_color=[G.rtt[v] for v in G], **options)\n",
        "# adjust the plot limits\n",
        "xmax = 1.02 * max(xx for xx, yy in pos.values())\n",
        "ymax = 1.02 * max(yy for xx, yy in pos.values())\n",
        "plt.xlim(0, xmax)\n",
        "plt.ylim(0, ymax)\n",
        "plt.show()"
      ],
      "metadata": {
        "id": "GBK2f_jQ-vyE",
        "outputId": "f81a11bd-8fb0-4b14-cd13-7ba652345b5c",
        "colab": {
          "base_uri": "https://localhost:8080/",
          "height": 368
        }
      },
      "execution_count": null,
      "outputs": [
        {
          "output_type": "stream",
          "name": "stdout",
          "text": [
            "lanl.edges not found\n"
          ]
        },
        {
          "output_type": "error",
          "ename": "FileNotFoundError",
          "evalue": "ignored",
          "traceback": [
            "\u001b[0;31m---------------------------------------------------------------------------\u001b[0m",
            "\u001b[0;31mFileNotFoundError\u001b[0m                         Traceback (most recent call last)",
            "\u001b[0;32m<ipython-input-36-a36feef09a4c>\u001b[0m in \u001b[0;36m<module>\u001b[0;34m()\u001b[0m\n\u001b[1;32m     30\u001b[0m \u001b[0;34m\u001b[0m\u001b[0m\n\u001b[1;32m     31\u001b[0m \u001b[0;34m\u001b[0m\u001b[0m\n\u001b[0;32m---> 32\u001b[0;31m \u001b[0mG\u001b[0m \u001b[0;34m=\u001b[0m \u001b[0mlanl_graph\u001b[0m\u001b[0;34m(\u001b[0m\u001b[0;34m)\u001b[0m\u001b[0;34m\u001b[0m\u001b[0;34m\u001b[0m\u001b[0m\n\u001b[0m\u001b[1;32m     33\u001b[0m \u001b[0;34m\u001b[0m\u001b[0m\n\u001b[1;32m     34\u001b[0m \u001b[0mprint\u001b[0m\u001b[0;34m(\u001b[0m\u001b[0mG\u001b[0m\u001b[0;34m)\u001b[0m\u001b[0;34m\u001b[0m\u001b[0;34m\u001b[0m\u001b[0m\n",
            "\u001b[0;32m<ipython-input-36-a36feef09a4c>\u001b[0m in \u001b[0;36mlanl_graph\u001b[0;34m()\u001b[0m\n\u001b[1;32m      6\u001b[0m     \u001b[0;34m\"\"\"Return the lanl internet view graph from lanl.edges\"\"\"\u001b[0m\u001b[0;34m\u001b[0m\u001b[0;34m\u001b[0m\u001b[0m\n\u001b[1;32m      7\u001b[0m     \u001b[0;32mtry\u001b[0m\u001b[0;34m:\u001b[0m\u001b[0;34m\u001b[0m\u001b[0;34m\u001b[0m\u001b[0m\n\u001b[0;32m----> 8\u001b[0;31m         \u001b[0mfh\u001b[0m \u001b[0;34m=\u001b[0m \u001b[0mopen\u001b[0m\u001b[0;34m(\u001b[0m\u001b[0;34m\"lanl_routes.edgelist\"\u001b[0m\u001b[0;34m)\u001b[0m\u001b[0;34m\u001b[0m\u001b[0;34m\u001b[0m\u001b[0m\n\u001b[0m\u001b[1;32m      9\u001b[0m     \u001b[0;32mexcept\u001b[0m \u001b[0mOSError\u001b[0m\u001b[0;34m:\u001b[0m\u001b[0;34m\u001b[0m\u001b[0;34m\u001b[0m\u001b[0m\n\u001b[1;32m     10\u001b[0m         \u001b[0mprint\u001b[0m\u001b[0;34m(\u001b[0m\u001b[0;34m\"lanl.edges not found\"\u001b[0m\u001b[0;34m)\u001b[0m\u001b[0;34m\u001b[0m\u001b[0;34m\u001b[0m\u001b[0m\n",
            "\u001b[0;31mFileNotFoundError\u001b[0m: [Errno 2] No such file or directory: 'lanl_routes.edgelist'"
          ]
        }
      ]
    }
  ]
}